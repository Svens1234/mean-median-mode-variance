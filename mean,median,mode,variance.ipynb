{
 "cells": [
  {
   "cell_type": "code",
   "execution_count": 13,
   "id": "1bf971b5",
   "metadata": {},
   "outputs": [],
   "source": [
    "from statistics import mean,median,mode,variance"
   ]
  },
  {
   "cell_type": "code",
   "execution_count": 4,
   "id": "758f47c9",
   "metadata": {},
   "outputs": [
    {
     "data": {
      "text/plain": [
       "2.3333333333333335"
      ]
     },
     "execution_count": 4,
     "metadata": {},
     "output_type": "execute_result"
    }
   ],
   "source": [
    "mean([1,2,2,2,1,3,4,1,5])"
   ]
  },
  {
   "cell_type": "code",
   "execution_count": 9,
   "id": "9c581a49",
   "metadata": {},
   "outputs": [
    {
     "data": {
      "text/plain": [
       "2.5"
      ]
     },
     "execution_count": 9,
     "metadata": {},
     "output_type": "execute_result"
    }
   ],
   "source": [
    "median([1,3,2,4])"
   ]
  },
  {
   "cell_type": "code",
   "execution_count": 12,
   "id": "75ce3a48",
   "metadata": {},
   "outputs": [
    {
     "data": {
      "text/plain": [
       "2"
      ]
     },
     "execution_count": 12,
     "metadata": {},
     "output_type": "execute_result"
    }
   ],
   "source": [
    "mode([1,2,2,2,2,1,3,4,1,5])"
   ]
  },
  {
   "cell_type": "code",
   "execution_count": 14,
   "id": "103e82e8",
   "metadata": {},
   "outputs": [
    {
     "data": {
      "text/plain": [
       "1.788888888888889"
      ]
     },
     "execution_count": 14,
     "metadata": {},
     "output_type": "execute_result"
    }
   ],
   "source": [
    "variance([1,2,2,2,2,1,3,4,1,5])"
   ]
  },
  {
   "cell_type": "code",
   "execution_count": null,
   "id": "517fccd5",
   "metadata": {},
   "outputs": [],
   "source": []
  }
 ],
 "metadata": {
  "kernelspec": {
   "display_name": "Python 3 (ipykernel)",
   "language": "python",
   "name": "python3"
  },
  "language_info": {
   "codemirror_mode": {
    "name": "ipython",
    "version": 3
   },
   "file_extension": ".py",
   "mimetype": "text/x-python",
   "name": "python",
   "nbconvert_exporter": "python",
   "pygments_lexer": "ipython3",
   "version": "3.8.7"
  }
 },
 "nbformat": 4,
 "nbformat_minor": 5
}
